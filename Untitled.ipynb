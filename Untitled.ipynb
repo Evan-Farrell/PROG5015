{
 "cells": [
  {
   "cell_type": "code",
   "execution_count": null,
   "id": "795542ca-7557-45e1-889e-c8d164675823",
   "metadata": {},
   "outputs": [],
   "source": [
    "#hello world \n",
    "testString= \"Hello World\"\n",
    "testInt = 7\n",
    "testFloat = 3.14\n",
    "\n",
    "print(f\"testString's type is {type(testString)} and its value is {testString}\")\n",
    "print(f\"testInt's type is {type(testInt)} and its value is {testInt}\")\n",
    "print(f\"testFloat's type is {type(testFloat)} and its value is {testFloat}\\n\")"
   ]
  }
 ],
 "metadata": {
  "kernelspec": {
   "display_name": "Python 3 (ipykernel)",
   "language": "python",
   "name": "python3"
  },
  "language_info": {
   "codemirror_mode": {
    "name": "ipython",
    "version": 3
   },
   "file_extension": ".py",
   "mimetype": "text/x-python",
   "name": "python",
   "nbconvert_exporter": "python",
   "pygments_lexer": "ipython3",
   "version": "3.12.5"
  }
 },
 "nbformat": 4,
 "nbformat_minor": 5
}
